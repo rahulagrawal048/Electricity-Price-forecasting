{
 "cells": [
  {
   "cell_type": "code",
   "execution_count": 485,
   "metadata": {
    "collapsed": true
   },
   "outputs": [],
   "source": [
    "import pandas as pd\n",
    "import numpy as np\n",
    "import matplotlib.pyplot as plt\n",
    "from datetime import datetime\n",
    "from sklearn.preprocessing import StandardScaler\n",
    "import seaborn as sns\n",
    "import re\n",
    "\n",
    "%matplotlib inline\n",
    "from pylab import rcParams\n",
    "rcParams['figure.figsize'] = 15, 10"
   ]
  },
  {
   "cell_type": "code",
   "execution_count": 86,
   "metadata": {
    "collapsed": true
   },
   "outputs": [],
   "source": [
    "#specify the columns to use\n",
    "cols_use_load = ['Date', 'Hour', 'DA_DEMD', 'DryBulb', 'DewPnt', 'Day']\n",
    "cols_use_price = ['Date', 'Hour', 'DA_DEMD', 'DryBulb', 'DewPnt', 'DA_LMP', 'Day', 'DA_EC', 'DA_CC', 'DA_MLC']"
   ]
  },
  {
   "cell_type": "markdown",
   "metadata": {},
   "source": [
    "### Load Data"
   ]
  },
  {
   "cell_type": "code",
   "execution_count": 87,
   "metadata": {
    "collapsed": true
   },
   "outputs": [],
   "source": [
    "#2012-14 dataset\n",
    "data1 = pd.read_csv('loadData1.csv', usecols=cols_use_price, skiprows=range(1415,1439))\n",
    "data2 = pd.read_csv('loadData2.csv', usecols=cols_use_price)\n",
    "data3 = pd.read_csv('loadData3.csv', usecols=cols_use_price)"
   ]
  },
  {
   "cell_type": "markdown",
   "metadata": {},
   "source": [
    "### Feature Engineering"
   ]
  },
  {
   "cell_type": "code",
   "execution_count": 88,
   "metadata": {
    "collapsed": true
   },
   "outputs": [],
   "source": [
    "#functions for converting string to datetime objects\n",
    "def convert_string_to_datetime(string):\n",
    "    datetime_obj = datetime.strptime(string, \"%d-%b-%y\")\n",
    "    return datetime_obj.date()\n",
    "\n",
    "#format is different for 2012,2013,2014\n",
    "def convert_string_to_datetime2(string):\n",
    "    datetime_obj = datetime.strptime(string, \"%m/%d/%Y\")\n",
    "    return datetime_obj.date()\n",
    "\n",
    "#format is different for 2015\n",
    "def convert_string_to_datetime3(string):\n",
    "    datetime_obj = datetime.strptime(string, \"%d/%m/%Y\")\n",
    "    return datetime_obj.date()\n",
    "\n",
    "#format for natural Gas prices\n",
    "def convert_string_to_datetime4(string):\n",
    "    datetime_obj = datetime.strptime(string, \"%Y-%m-%d\")\n",
    "    return datetime_obj.date()"
   ]
  },
  {
   "cell_type": "code",
   "execution_count": 89,
   "metadata": {
    "collapsed": true
   },
   "outputs": [],
   "source": [
    "#append year wise data together to one single file\n",
    "tot_data = data1.append([data2], ignore_index=True)"
   ]
  },
  {
   "cell_type": "code",
   "execution_count": 90,
   "metadata": {
    "collapsed": true
   },
   "outputs": [],
   "source": [
    "tot_data['Date'] = tot_data['Date'].apply(convert_string_to_datetime2)\n",
    "tot_data['Date'] = pd.to_datetime(tot_data['Date'])"
   ]
  },
  {
   "cell_type": "code",
   "execution_count": 91,
   "metadata": {
    "collapsed": true
   },
   "outputs": [],
   "source": [
    "#function to get day from date\n",
    "def get_day_from_date(date_time_obj):\n",
    "    return int(date_time_obj.date().day)\n",
    "\n",
    "#function to get month from date\n",
    "def get_month_from_date(date_time_obj):\n",
    "    return int(date_time_obj.date().month)"
   ]
  },
  {
   "cell_type": "code",
   "execution_count": 92,
   "metadata": {
    "collapsed": true
   },
   "outputs": [],
   "source": [
    "tot_data['Day_Date'] = tot_data['Date'].apply(get_day_from_date)"
   ]
  },
  {
   "cell_type": "code",
   "execution_count": 93,
   "metadata": {},
   "outputs": [
    {
     "data": {
      "text/html": [
       "<div>\n",
       "<style>\n",
       "    .dataframe thead tr:only-child th {\n",
       "        text-align: right;\n",
       "    }\n",
       "\n",
       "    .dataframe thead th {\n",
       "        text-align: left;\n",
       "    }\n",
       "\n",
       "    .dataframe tbody tr th {\n",
       "        vertical-align: top;\n",
       "    }\n",
       "</style>\n",
       "<table border=\"1\" class=\"dataframe\">\n",
       "  <thead>\n",
       "    <tr style=\"text-align: right;\">\n",
       "      <th></th>\n",
       "      <th>Date</th>\n",
       "      <th>Hour</th>\n",
       "      <th>DA_DEMD</th>\n",
       "      <th>DA_LMP</th>\n",
       "      <th>DA_EC</th>\n",
       "      <th>DA_CC</th>\n",
       "      <th>DA_MLC</th>\n",
       "      <th>DryBulb</th>\n",
       "      <th>DewPnt</th>\n",
       "      <th>Day</th>\n",
       "      <th>Day_Date</th>\n",
       "    </tr>\n",
       "  </thead>\n",
       "  <tbody>\n",
       "    <tr>\n",
       "      <th>0</th>\n",
       "      <td>2012-01-01</td>\n",
       "      <td>1</td>\n",
       "      <td>10711.0</td>\n",
       "      <td>35.12</td>\n",
       "      <td>35.22</td>\n",
       "      <td>0.0</td>\n",
       "      <td>-0.10</td>\n",
       "      <td>35</td>\n",
       "      <td>33</td>\n",
       "      <td>1</td>\n",
       "      <td>1</td>\n",
       "    </tr>\n",
       "    <tr>\n",
       "      <th>1</th>\n",
       "      <td>2012-01-01</td>\n",
       "      <td>2</td>\n",
       "      <td>10276.0</td>\n",
       "      <td>33.38</td>\n",
       "      <td>33.39</td>\n",
       "      <td>0.0</td>\n",
       "      <td>-0.01</td>\n",
       "      <td>35</td>\n",
       "      <td>33</td>\n",
       "      <td>1</td>\n",
       "      <td>1</td>\n",
       "    </tr>\n",
       "    <tr>\n",
       "      <th>2</th>\n",
       "      <td>2012-01-01</td>\n",
       "      <td>3</td>\n",
       "      <td>9868.0</td>\n",
       "      <td>30.26</td>\n",
       "      <td>30.30</td>\n",
       "      <td>0.0</td>\n",
       "      <td>-0.04</td>\n",
       "      <td>36</td>\n",
       "      <td>33</td>\n",
       "      <td>1</td>\n",
       "      <td>1</td>\n",
       "    </tr>\n",
       "    <tr>\n",
       "      <th>3</th>\n",
       "      <td>2012-01-01</td>\n",
       "      <td>4</td>\n",
       "      <td>9771.0</td>\n",
       "      <td>28.88</td>\n",
       "      <td>28.88</td>\n",
       "      <td>0.0</td>\n",
       "      <td>0.00</td>\n",
       "      <td>36</td>\n",
       "      <td>33</td>\n",
       "      <td>1</td>\n",
       "      <td>1</td>\n",
       "    </tr>\n",
       "    <tr>\n",
       "      <th>4</th>\n",
       "      <td>2012-01-01</td>\n",
       "      <td>5</td>\n",
       "      <td>9884.0</td>\n",
       "      <td>20.23</td>\n",
       "      <td>20.21</td>\n",
       "      <td>0.0</td>\n",
       "      <td>0.02</td>\n",
       "      <td>36</td>\n",
       "      <td>33</td>\n",
       "      <td>1</td>\n",
       "      <td>1</td>\n",
       "    </tr>\n",
       "  </tbody>\n",
       "</table>\n",
       "</div>"
      ],
      "text/plain": [
       "        Date  Hour  DA_DEMD  DA_LMP  DA_EC  DA_CC  DA_MLC  DryBulb  DewPnt  \\\n",
       "0 2012-01-01     1  10711.0   35.12  35.22    0.0   -0.10       35      33   \n",
       "1 2012-01-01     2  10276.0   33.38  33.39    0.0   -0.01       35      33   \n",
       "2 2012-01-01     3   9868.0   30.26  30.30    0.0   -0.04       36      33   \n",
       "3 2012-01-01     4   9771.0   28.88  28.88    0.0    0.00       36      33   \n",
       "4 2012-01-01     5   9884.0   20.23  20.21    0.0    0.02       36      33   \n",
       "\n",
       "   Day  Day_Date  \n",
       "0    1         1  \n",
       "1    1         1  \n",
       "2    1         1  \n",
       "3    1         1  \n",
       "4    1         1  "
      ]
     },
     "execution_count": 93,
     "metadata": {},
     "output_type": "execute_result"
    }
   ],
   "source": [
    "tot_data.head()"
   ]
  },
  {
   "cell_type": "markdown",
   "metadata": {},
   "source": [
    "#### Add Target Labels - Next Hour Data"
   ]
  },
  {
   "cell_type": "code",
   "execution_count": 94,
   "metadata": {
    "collapsed": true
   },
   "outputs": [],
   "source": [
    "tot_data_labels = list(tot_data['DA_LMP'][1:])\n",
    "tot_data_labels.append(data3['DA_LMP'][0])"
   ]
  },
  {
   "cell_type": "code",
   "execution_count": 95,
   "metadata": {},
   "outputs": [
    {
     "name": "stdout",
     "output_type": "stream",
     "text": [
      "Done\n"
     ]
    }
   ],
   "source": [
    "tot_data = tot_data.reset_index(drop=True)\n",
    "print(\"Done\")"
   ]
  },
  {
   "cell_type": "code",
   "execution_count": 96,
   "metadata": {
    "collapsed": true
   },
   "outputs": [],
   "source": [
    "tot_data['TARGET_DA_LMP'] = tot_data_labels"
   ]
  },
  {
   "cell_type": "markdown",
   "metadata": {},
   "source": [
    "#### Add previous day same hour price\n",
    "This should be more useful for very short term than prev week"
   ]
  },
  {
   "cell_type": "code",
   "execution_count": 97,
   "metadata": {
    "collapsed": true
   },
   "outputs": [],
   "source": [
    "prev_day_da_lmp_targ = tot_data['DA_LMP'][1:-24]\n",
    "prev_day_da_lmp_targ = prev_day_da_lmp_targ.reset_index(drop=True)\n",
    "\n",
    "prev_day_da_demd_targ = tot_data['DA_DEMD'][1:-24]\n",
    "prev_day_da_demd_targ = prev_day_da_demd_targ.reset_index(drop=True)\n",
    "\n",
    "prev_day_dry_bulb_targ = tot_data['DryBulb'][1:-24]\n",
    "prev_day_dry_bulb_targ = prev_day_dry_bulb_targ.reset_index(drop=True)\n",
    "\n",
    "temp_df = pd.DataFrame({\n",
    "    'prev_day_da_lmp': prev_day_da_lmp_targ,\n",
    "    'prev_day_da_demd': prev_day_da_demd_targ,\n",
    "    'prev_day_dry_bulb': prev_day_dry_bulb_targ,\n",
    "    'actual_da_lmp': tot_data['DA_LMP'][0:-25],\n",
    "    'actual_da_demd': tot_data['DA_DEMD'][0:-25],\n",
    "    'actual_dry_bulb': tot_data['DryBulb'][0:-25]\n",
    "})\n",
    "\n",
    "temp_df['chg_in_da_demd'] = temp_df['actual_da_demd'] - temp_df['prev_day_da_demd']\n",
    "temp_df['chg_in_dry_bulb'] = temp_df['actual_dry_bulb'] - temp_df['prev_day_dry_bulb']\n",
    "temp_df['chg_in_da_lmp'] = temp_df['actual_da_lmp'] - temp_df['prev_day_da_lmp']"
   ]
  },
  {
   "cell_type": "code",
   "execution_count": 98,
   "metadata": {
    "collapsed": true
   },
   "outputs": [],
   "source": [
    "tot_data = tot_data[24:-1]\n",
    "tot_data = tot_data.reset_index(drop=True)"
   ]
  },
  {
   "cell_type": "raw",
   "metadata": {},
   "source": [
    "hours_df = pd.DataFrame({\n",
    "    'hour0': list(tot_data['DA_LMP'][0:-4]),\n",
    "    'hour1': list(tot_data['DA_LMP'][1:-3]),\n",
    "    'hour2': list(tot_data['DA_LMP'][2:-2]),\n",
    "    'hour3': list(tot_data['DA_LMP'][3:-1])\n",
    "})\n",
    "\n",
    "hours_df = hours_df.reset_index(drop=True)\n",
    "\n",
    "tot_data = tot_data[4:]\n",
    "tot_data = tot_data.reset_index(drop=True)\n",
    "tot_data['Hour0'] = hours_df['hour0']\n",
    "tot_data['Hour1'] = hours_df['hour1']\n",
    "tot_data['Hour2'] = hours_df['hour2']\n",
    "tot_data['Hour3'] = hours_df['hour3']\n",
    "\n",
    "tot_data = tot_data.reset_index(drop=True)"
   ]
  },
  {
   "cell_type": "code",
   "execution_count": 99,
   "metadata": {},
   "outputs": [
    {
     "data": {
      "text/plain": [
       "17495"
      ]
     },
     "execution_count": 99,
     "metadata": {},
     "output_type": "execute_result"
    }
   ],
   "source": [
    "tot_data = pd.merge(tot_data, temp_df[['prev_day_da_demd','prev_day_da_lmp', 'prev_day_dry_bulb',\n",
    "                           'chg_in_da_demd', 'chg_in_da_lmp', 'chg_in_dry_bulb']], how='inner', \n",
    "                    left_index=True, right_index=True)\n",
    "len(tot_data)"
   ]
  },
  {
   "cell_type": "markdown",
   "metadata": {},
   "source": [
    "#### Add Previous Week Next Hour Data\n",
    "Maybe useful for short-term, not so much for very short term forecasting"
   ]
  },
  {
   "cell_type": "raw",
   "metadata": {},
   "source": [
    "#da-lmp prev week\n",
    "prev_week_da_lmp = list(tot_data['DA_LMP'][1:-168])\n",
    "\n",
    "#da-demd prev week\n",
    "prev_week_da_demd = list(tot_data['DA_DEMD'][1:-168])"
   ]
  },
  {
   "cell_type": "raw",
   "metadata": {},
   "source": [
    "len(prev_week_da_lmp)"
   ]
  },
  {
   "cell_type": "raw",
   "metadata": {
    "collapsed": true
   },
   "source": [
    "tot_data = tot_data[168:-1]\n",
    "tot_data = tot_data.reset_index(drop=True)\n",
    "\n",
    "tot_data['Prev_Week_DA_DEMD'] = prev_week_da_demd\n",
    "tot_data['Prev_Week_DA_LMP'] = prev_week_da_lmp"
   ]
  },
  {
   "cell_type": "markdown",
   "metadata": {},
   "source": [
    "#### Add daily means to the data"
   ]
  },
  {
   "cell_type": "code",
   "execution_count": 100,
   "metadata": {
    "collapsed": true
   },
   "outputs": [],
   "source": [
    "mean_values = tot_data.groupby('Date', as_index=False).mean()[['Date','DA_DEMD', 'DA_LMP', 'DryBulb', 'DewPnt']]\n",
    "temp = pd.merge(tot_data, mean_values, how='inner', left_on='Date', right_on='Date', \n",
    "                suffixes=('_actual_value','_daily_mean'))\n",
    "tot_data = temp"
   ]
  },
  {
   "cell_type": "markdown",
   "metadata": {},
   "source": [
    "#### Add crude oil prices"
   ]
  },
  {
   "cell_type": "code",
   "execution_count": 101,
   "metadata": {},
   "outputs": [
    {
     "data": {
      "text/plain": [
       "\"\\ntemp2 = pd.merge(test, crude_oil, how='outer', left_on='Date', right_on='Date', suffixes=('_X','_crude_oil'))\\ntemp2.reset_index(drop=True)\\ntemp2['Crude_Oil_Price'] = temp2['Crude_Oil_Price'].fillna(method='bfill')\\ntemp2['Crude_Oil_Vol'] = temp2['Crude_Oil_Vol'].fillna(method='bfill')\\ntest = temp2[0:4271]\\n\\ntest['Crude_Oil_Vol'] = test['Crude_Oil_Vol'].apply(get_num_from_vol_str)\\n\""
      ]
     },
     "execution_count": 101,
     "metadata": {},
     "output_type": "execute_result"
    }
   ],
   "source": [
    "crude_oil = pd.read_csv('CurdeOil.csv', delimiter='\\t')\n",
    "crude_oil = crude_oil[::-1]\n",
    "crude_oil = crude_oil.reset_index(drop=True)\n",
    "crude_oil = crude_oil[2:]\n",
    "crude_oil = crude_oil.reset_index(drop=True)\n",
    "\n",
    "def get_num_from_vol_str(string):\n",
    "    match = re.search(r\"(\\d+)\", string)\n",
    "    if match!=None:\n",
    "        return float(match.group(1))\n",
    "    \n",
    "crude_oil = crude_oil[['Date', 'Price', 'Vol.']]\n",
    "crude_oil['Date'] = crude_oil['Date'].apply(convert_string_to_datetime)\n",
    "crude_oil['Date'] = pd.to_datetime(crude_oil['Date'])\n",
    "\n",
    "crude_oil['Crude_Oil_Price'] = crude_oil['Price']\n",
    "crude_oil['Crude_Oil_Vol'] = crude_oil['Vol.']\n",
    "\n",
    "crude_oil = crude_oil.drop('Price', axis=1)\n",
    "crude_oil = crude_oil.drop('Vol.', axis=1)\n",
    "\n",
    "temp = pd.merge(tot_data, crude_oil, how='outer', left_on='Date', right_on='Date', suffixes=('_X','_crude_oil'))\n",
    "temp.reset_index(drop=True)\n",
    "temp['Crude_Oil_Price'] = temp['Crude_Oil_Price'].fillna(method='bfill')\n",
    "temp['Crude_Oil_Vol'] = temp['Crude_Oil_Vol'].fillna(method='bfill')\n",
    "temp = temp[0:len(tot_data)]\n",
    "tot_data = temp\n",
    "\n",
    "tot_data['Crude_Oil_Vol'] = tot_data['Crude_Oil_Vol'].apply(get_num_from_vol_str)\n",
    "\n",
    "'''\n",
    "temp2 = pd.merge(test, crude_oil, how='outer', left_on='Date', right_on='Date', suffixes=('_X','_crude_oil'))\n",
    "temp2.reset_index(drop=True)\n",
    "temp2['Crude_Oil_Price'] = temp2['Crude_Oil_Price'].fillna(method='bfill')\n",
    "temp2['Crude_Oil_Vol'] = temp2['Crude_Oil_Vol'].fillna(method='bfill')\n",
    "test = temp2[0:4271]\n",
    "\n",
    "test['Crude_Oil_Vol'] = test['Crude_Oil_Vol'].apply(get_num_from_vol_str)\n",
    "'''"
   ]
  },
  {
   "cell_type": "markdown",
   "metadata": {},
   "source": [
    "#### Add Natural Gas Price"
   ]
  },
  {
   "cell_type": "code",
   "execution_count": 102,
   "metadata": {
    "collapsed": true
   },
   "outputs": [],
   "source": [
    "natural_gas = pd.read_csv('natural_gas.csv')"
   ]
  },
  {
   "cell_type": "code",
   "execution_count": 103,
   "metadata": {},
   "outputs": [
    {
     "data": {
      "text/html": [
       "<div>\n",
       "<style>\n",
       "    .dataframe thead tr:only-child th {\n",
       "        text-align: right;\n",
       "    }\n",
       "\n",
       "    .dataframe thead th {\n",
       "        text-align: left;\n",
       "    }\n",
       "\n",
       "    .dataframe tbody tr th {\n",
       "        vertical-align: top;\n",
       "    }\n",
       "</style>\n",
       "<table border=\"1\" class=\"dataframe\">\n",
       "  <thead>\n",
       "    <tr style=\"text-align: right;\">\n",
       "      <th></th>\n",
       "      <th>Date</th>\n",
       "      <th>Open</th>\n",
       "      <th>High</th>\n",
       "      <th>Low</th>\n",
       "      <th>Last</th>\n",
       "      <th>Change</th>\n",
       "      <th>Settle</th>\n",
       "      <th>Volume</th>\n",
       "      <th>Previous Day Open Interest</th>\n",
       "    </tr>\n",
       "  </thead>\n",
       "  <tbody>\n",
       "    <tr>\n",
       "      <th>750</th>\n",
       "      <td>2012-01-09</td>\n",
       "      <td>3.011</td>\n",
       "      <td>3.032</td>\n",
       "      <td>2.977</td>\n",
       "      <td>3.011</td>\n",
       "      <td>NaN</td>\n",
       "      <td>3.011</td>\n",
       "      <td>115212.0</td>\n",
       "      <td>165717.0</td>\n",
       "    </tr>\n",
       "    <tr>\n",
       "      <th>751</th>\n",
       "      <td>2012-01-06</td>\n",
       "      <td>2.960</td>\n",
       "      <td>3.077</td>\n",
       "      <td>2.955</td>\n",
       "      <td>3.062</td>\n",
       "      <td>NaN</td>\n",
       "      <td>3.062</td>\n",
       "      <td>132139.0</td>\n",
       "      <td>172208.0</td>\n",
       "    </tr>\n",
       "    <tr>\n",
       "      <th>752</th>\n",
       "      <td>2012-01-05</td>\n",
       "      <td>3.122</td>\n",
       "      <td>3.123</td>\n",
       "      <td>2.947</td>\n",
       "      <td>2.980</td>\n",
       "      <td>NaN</td>\n",
       "      <td>2.980</td>\n",
       "      <td>171870.0</td>\n",
       "      <td>171072.0</td>\n",
       "    </tr>\n",
       "    <tr>\n",
       "      <th>753</th>\n",
       "      <td>2012-01-04</td>\n",
       "      <td>2.978</td>\n",
       "      <td>3.123</td>\n",
       "      <td>2.975</td>\n",
       "      <td>3.096</td>\n",
       "      <td>NaN</td>\n",
       "      <td>3.096</td>\n",
       "      <td>137309.0</td>\n",
       "      <td>173289.0</td>\n",
       "    </tr>\n",
       "    <tr>\n",
       "      <th>754</th>\n",
       "      <td>2012-01-03</td>\n",
       "      <td>2.969</td>\n",
       "      <td>3.074</td>\n",
       "      <td>2.936</td>\n",
       "      <td>2.993</td>\n",
       "      <td>NaN</td>\n",
       "      <td>2.993</td>\n",
       "      <td>110030.0</td>\n",
       "      <td>180477.0</td>\n",
       "    </tr>\n",
       "  </tbody>\n",
       "</table>\n",
       "</div>"
      ],
      "text/plain": [
       "           Date   Open   High    Low   Last  Change  Settle    Volume  \\\n",
       "750  2012-01-09  3.011  3.032  2.977  3.011     NaN   3.011  115212.0   \n",
       "751  2012-01-06  2.960  3.077  2.955  3.062     NaN   3.062  132139.0   \n",
       "752  2012-01-05  3.122  3.123  2.947  2.980     NaN   2.980  171870.0   \n",
       "753  2012-01-04  2.978  3.123  2.975  3.096     NaN   3.096  137309.0   \n",
       "754  2012-01-03  2.969  3.074  2.936  2.993     NaN   2.993  110030.0   \n",
       "\n",
       "     Previous Day Open Interest  \n",
       "750                    165717.0  \n",
       "751                    172208.0  \n",
       "752                    171072.0  \n",
       "753                    173289.0  \n",
       "754                    180477.0  "
      ]
     },
     "execution_count": 103,
     "metadata": {},
     "output_type": "execute_result"
    }
   ],
   "source": [
    "natural_gas.tail()"
   ]
  },
  {
   "cell_type": "code",
   "execution_count": 104,
   "metadata": {
    "collapsed": true
   },
   "outputs": [],
   "source": [
    "natural_gas['Date'] = natural_gas['Date'].apply(lambda x: datetime.strptime(x, '%Y-%m-%d').date())"
   ]
  },
  {
   "cell_type": "code",
   "execution_count": 105,
   "metadata": {
    "collapsed": true
   },
   "outputs": [],
   "source": [
    "natural_gas.rename(columns={\n",
    "    'Open': 'Natural_Gas_Price_Open',\n",
    "    'Last': 'Natural_Gas_Price_Close'\n",
    "}, inplace=True)"
   ]
  },
  {
   "cell_type": "code",
   "execution_count": 106,
   "metadata": {
    "collapsed": true
   },
   "outputs": [],
   "source": [
    "natural_gas['Date'] = pd.to_datetime(natural_gas['Date'])"
   ]
  },
  {
   "cell_type": "code",
   "execution_count": 107,
   "metadata": {
    "collapsed": true
   },
   "outputs": [],
   "source": [
    "tot_data = pd.merge(left=tot_data, right=natural_gas[['Date', 'Natural_Gas_Price_Open', 'Natural_Gas_Price_Close']],\n",
    "        how='left', on='Date')"
   ]
  },
  {
   "cell_type": "code",
   "execution_count": 108,
   "metadata": {},
   "outputs": [
    {
     "data": {
      "text/plain": [
       "<matplotlib.axes._subplots.AxesSubplot at 0x11c0ea518>"
      ]
     },
     "execution_count": 108,
     "metadata": {},
     "output_type": "execute_result"
    },
    {
     "data": {
      "image/png": "[encoded data removed]",
      "text/plain": [
       "<matplotlib.figure.Figure at 0x11ce2dc18>"
      ]
     },
     "metadata": {},
     "output_type": "display_data"
    }
   ],
   "source": [
    "tot_data['Natural_Gas_Price_Open'].isnull().value_counts().plot(kind='bar')"
   ]
  },
  {
   "cell_type": "code",
   "execution_count": 109,
   "metadata": {
    "collapsed": true
   },
   "outputs": [],
   "source": [
    "tot_data.fillna(method='bfill', inplace=True)"
   ]
  },
  {
   "cell_type": "code",
   "execution_count": 110,
   "metadata": {},
   "outputs": [
    {
     "data": {
      "text/html": [
       "<div>\n",
       "<style>\n",
       "    .dataframe thead tr:only-child th {\n",
       "        text-align: right;\n",
       "    }\n",
       "\n",
       "    .dataframe thead th {\n",
       "        text-align: left;\n",
       "    }\n",
       "\n",
       "    .dataframe tbody tr th {\n",
       "        vertical-align: top;\n",
       "    }\n",
       "</style>\n",
       "<table border=\"1\" class=\"dataframe\">\n",
       "  <thead>\n",
       "    <tr style=\"text-align: right;\">\n",
       "      <th></th>\n",
       "      <th>Date</th>\n",
       "      <th>Hour</th>\n",
       "      <th>DA_DEMD_actual_value</th>\n",
       "      <th>DA_LMP_actual_value</th>\n",
       "      <th>DA_EC</th>\n",
       "      <th>DA_CC</th>\n",
       "      <th>DA_MLC</th>\n",
       "      <th>DryBulb_actual_value</th>\n",
       "      <th>DewPnt_actual_value</th>\n",
       "      <th>Day</th>\n",
       "      <th>...</th>\n",
       "      <th>chg_in_da_lmp</th>\n",
       "      <th>chg_in_dry_bulb</th>\n",
       "      <th>DA_DEMD_daily_mean</th>\n",
       "      <th>DA_LMP_daily_mean</th>\n",
       "      <th>DryBulb_daily_mean</th>\n",
       "      <th>DewPnt_daily_mean</th>\n",
       "      <th>Crude_Oil_Price</th>\n",
       "      <th>Crude_Oil_Vol</th>\n",
       "      <th>Natural_Gas_Price_Open</th>\n",
       "      <th>Natural_Gas_Price_Close</th>\n",
       "    </tr>\n",
       "  </thead>\n",
       "  <tbody>\n",
       "    <tr>\n",
       "      <th>0</th>\n",
       "      <td>2012-01-02</td>\n",
       "      <td>1.0</td>\n",
       "      <td>10453.0</td>\n",
       "      <td>30.36</td>\n",
       "      <td>30.24</td>\n",
       "      <td>0.0</td>\n",
       "      <td>0.12</td>\n",
       "      <td>47.0</td>\n",
       "      <td>44.0</td>\n",
       "      <td>2.0</td>\n",
       "      <td>...</td>\n",
       "      <td>1.74</td>\n",
       "      <td>0.0</td>\n",
       "      <td>13152.291667</td>\n",
       "      <td>44.879167</td>\n",
       "      <td>39.375</td>\n",
       "      <td>25.708333</td>\n",
       "      <td>102.96</td>\n",
       "      <td>275.0</td>\n",
       "      <td>2.969</td>\n",
       "      <td>2.993</td>\n",
       "    </tr>\n",
       "    <tr>\n",
       "      <th>1</th>\n",
       "      <td>2012-01-02</td>\n",
       "      <td>2.0</td>\n",
       "      <td>10447.0</td>\n",
       "      <td>30.95</td>\n",
       "      <td>30.80</td>\n",
       "      <td>0.0</td>\n",
       "      <td>0.15</td>\n",
       "      <td>47.0</td>\n",
       "      <td>44.0</td>\n",
       "      <td>2.0</td>\n",
       "      <td>...</td>\n",
       "      <td>3.12</td>\n",
       "      <td>-1.0</td>\n",
       "      <td>13152.291667</td>\n",
       "      <td>44.879167</td>\n",
       "      <td>39.375</td>\n",
       "      <td>25.708333</td>\n",
       "      <td>102.96</td>\n",
       "      <td>275.0</td>\n",
       "      <td>2.969</td>\n",
       "      <td>2.993</td>\n",
       "    </tr>\n",
       "    <tr>\n",
       "      <th>2</th>\n",
       "      <td>2012-01-02</td>\n",
       "      <td>3.0</td>\n",
       "      <td>10446.0</td>\n",
       "      <td>24.05</td>\n",
       "      <td>23.86</td>\n",
       "      <td>0.0</td>\n",
       "      <td>0.19</td>\n",
       "      <td>47.0</td>\n",
       "      <td>44.0</td>\n",
       "      <td>2.0</td>\n",
       "      <td>...</td>\n",
       "      <td>1.38</td>\n",
       "      <td>0.0</td>\n",
       "      <td>13152.291667</td>\n",
       "      <td>44.879167</td>\n",
       "      <td>39.375</td>\n",
       "      <td>25.708333</td>\n",
       "      <td>102.96</td>\n",
       "      <td>275.0</td>\n",
       "      <td>2.969</td>\n",
       "      <td>2.993</td>\n",
       "    </tr>\n",
       "    <tr>\n",
       "      <th>3</th>\n",
       "      <td>2012-01-02</td>\n",
       "      <td>4.0</td>\n",
       "      <td>10374.0</td>\n",
       "      <td>20.49</td>\n",
       "      <td>20.34</td>\n",
       "      <td>0.0</td>\n",
       "      <td>0.15</td>\n",
       "      <td>46.0</td>\n",
       "      <td>42.0</td>\n",
       "      <td>2.0</td>\n",
       "      <td>...</td>\n",
       "      <td>8.65</td>\n",
       "      <td>0.0</td>\n",
       "      <td>13152.291667</td>\n",
       "      <td>44.879167</td>\n",
       "      <td>39.375</td>\n",
       "      <td>25.708333</td>\n",
       "      <td>102.96</td>\n",
       "      <td>275.0</td>\n",
       "      <td>2.969</td>\n",
       "      <td>2.993</td>\n",
       "    </tr>\n",
       "    <tr>\n",
       "      <th>4</th>\n",
       "      <td>2012-01-02</td>\n",
       "      <td>5.0</td>\n",
       "      <td>10473.0</td>\n",
       "      <td>20.46</td>\n",
       "      <td>20.34</td>\n",
       "      <td>0.0</td>\n",
       "      <td>0.12</td>\n",
       "      <td>43.0</td>\n",
       "      <td>37.0</td>\n",
       "      <td>2.0</td>\n",
       "      <td>...</td>\n",
       "      <td>-0.03</td>\n",
       "      <td>1.0</td>\n",
       "      <td>13152.291667</td>\n",
       "      <td>44.879167</td>\n",
       "      <td>39.375</td>\n",
       "      <td>25.708333</td>\n",
       "      <td>102.96</td>\n",
       "      <td>275.0</td>\n",
       "      <td>2.969</td>\n",
       "      <td>2.993</td>\n",
       "    </tr>\n",
       "  </tbody>\n",
       "</table>\n",
       "<p>5 rows × 26 columns</p>\n",
       "</div>"
      ],
      "text/plain": [
       "        Date  Hour  DA_DEMD_actual_value  DA_LMP_actual_value  DA_EC  DA_CC  \\\n",
       "0 2012-01-02   1.0               10453.0                30.36  30.24    0.0   \n",
       "1 2012-01-02   2.0               10447.0                30.95  30.80    0.0   \n",
       "2 2012-01-02   3.0               10446.0                24.05  23.86    0.0   \n",
       "3 2012-01-02   4.0               10374.0                20.49  20.34    0.0   \n",
       "4 2012-01-02   5.0               10473.0                20.46  20.34    0.0   \n",
       "\n",
       "   DA_MLC  DryBulb_actual_value  DewPnt_actual_value  Day  \\\n",
       "0    0.12                  47.0                 44.0  2.0   \n",
       "1    0.15                  47.0                 44.0  2.0   \n",
       "2    0.19                  47.0                 44.0  2.0   \n",
       "3    0.15                  46.0                 42.0  2.0   \n",
       "4    0.12                  43.0                 37.0  2.0   \n",
       "\n",
       "            ...             chg_in_da_lmp  chg_in_dry_bulb  \\\n",
       "0           ...                      1.74              0.0   \n",
       "1           ...                      3.12             -1.0   \n",
       "2           ...                      1.38              0.0   \n",
       "3           ...                      8.65              0.0   \n",
       "4           ...                     -0.03              1.0   \n",
       "\n",
       "   DA_DEMD_daily_mean  DA_LMP_daily_mean  DryBulb_daily_mean  \\\n",
       "0        13152.291667          44.879167              39.375   \n",
       "1        13152.291667          44.879167              39.375   \n",
       "2        13152.291667          44.879167              39.375   \n",
       "3        13152.291667          44.879167              39.375   \n",
       "4        13152.291667          44.879167              39.375   \n",
       "\n",
       "   DewPnt_daily_mean  Crude_Oil_Price  Crude_Oil_Vol  Natural_Gas_Price_Open  \\\n",
       "0          25.708333           102.96          275.0                   2.969   \n",
       "1          25.708333           102.96          275.0                   2.969   \n",
       "2          25.708333           102.96          275.0                   2.969   \n",
       "3          25.708333           102.96          275.0                   2.969   \n",
       "4          25.708333           102.96          275.0                   2.969   \n",
       "\n",
       "   Natural_Gas_Price_Close  \n",
       "0                    2.993  \n",
       "1                    2.993  \n",
       "2                    2.993  \n",
       "3                    2.993  \n",
       "4                    2.993  \n",
       "\n",
       "[5 rows x 26 columns]"
      ]
     },
     "execution_count": 110,
     "metadata": {},
     "output_type": "execute_result"
    }
   ],
   "source": [
    "tot_data.head()"
   ]
  },
  {
   "cell_type": "code",
   "execution_count": 111,
   "metadata": {
    "collapsed": true
   },
   "outputs": [],
   "source": [
    "tot_data.to_csv('final_complete_data.csv', index=False)"
   ]
  },
  {
   "cell_type": "code",
   "execution_count": null,
   "metadata": {
    "collapsed": true
   },
   "outputs": [],
   "source": []
  },
  {
   "cell_type": "markdown",
   "metadata": {},
   "source": [
    " # Load the Data\n",
    " just load the saved csv\n",
    " no need to run the previous blocks again"
   ]
  },
  {
   "cell_type": "code",
   "execution_count": 970,
   "metadata": {
    "collapsed": true
   },
   "outputs": [],
   "source": [
    "tot_data = pd.read_csv('../final_complete_data.csv')"
   ]
  },
  {
   "cell_type": "code",
   "execution_count": 971,
   "metadata": {},
   "outputs": [
    {
     "data": {
      "text/html": [
       "<div>\n",
       "<style>\n",
       "    .dataframe thead tr:only-child th {\n",
       "        text-align: right;\n",
       "    }\n",
       "\n",
       "    .dataframe thead th {\n",
       "        text-align: left;\n",
       "    }\n",
       "\n",
       "    .dataframe tbody tr th {\n",
       "        vertical-align: top;\n",
       "    }\n",
       "</style>\n",
       "<table border=\"1\" class=\"dataframe\">\n",
       "  <thead>\n",
       "    <tr style=\"text-align: right;\">\n",
       "      <th></th>\n",
       "      <th>Date</th>\n",
       "      <th>Hour</th>\n",
       "      <th>DA_DEMD_actual_value</th>\n",
       "      <th>DA_LMP_actual_value</th>\n",
       "      <th>DA_EC</th>\n",
       "      <th>DA_CC</th>\n",
       "      <th>DA_MLC</th>\n",
       "      <th>DryBulb_actual_value</th>\n",
       "      <th>DewPnt_actual_value</th>\n",
       "      <th>Day</th>\n",
       "      <th>...</th>\n",
       "      <th>chg_in_da_lmp</th>\n",
       "      <th>chg_in_dry_bulb</th>\n",
       "      <th>DA_DEMD_daily_mean</th>\n",
       "      <th>DA_LMP_daily_mean</th>\n",
       "      <th>DryBulb_daily_mean</th>\n",
       "      <th>DewPnt_daily_mean</th>\n",
       "      <th>Crude_Oil_Price</th>\n",
       "      <th>Crude_Oil_Vol</th>\n",
       "      <th>Natural_Gas_Price_Open</th>\n",
       "      <th>Natural_Gas_Price_Close</th>\n",
       "    </tr>\n",
       "  </thead>\n",
       "  <tbody>\n",
       "    <tr>\n",
       "      <th>0</th>\n",
       "      <td>2012-01-02</td>\n",
       "      <td>1.0</td>\n",
       "      <td>10453.0</td>\n",
       "      <td>30.36</td>\n",
       "      <td>30.24</td>\n",
       "      <td>0.0</td>\n",
       "      <td>0.12</td>\n",
       "      <td>47.0</td>\n",
       "      <td>44.0</td>\n",
       "      <td>2.0</td>\n",
       "      <td>...</td>\n",
       "      <td>1.74</td>\n",
       "      <td>0.0</td>\n",
       "      <td>13152.291667</td>\n",
       "      <td>44.879167</td>\n",
       "      <td>39.375</td>\n",
       "      <td>25.708333</td>\n",
       "      <td>102.96</td>\n",
       "      <td>275.0</td>\n",
       "      <td>2.969</td>\n",
       "      <td>2.993</td>\n",
       "    </tr>\n",
       "    <tr>\n",
       "      <th>1</th>\n",
       "      <td>2012-01-02</td>\n",
       "      <td>2.0</td>\n",
       "      <td>10447.0</td>\n",
       "      <td>30.95</td>\n",
       "      <td>30.80</td>\n",
       "      <td>0.0</td>\n",
       "      <td>0.15</td>\n",
       "      <td>47.0</td>\n",
       "      <td>44.0</td>\n",
       "      <td>2.0</td>\n",
       "      <td>...</td>\n",
       "      <td>3.12</td>\n",
       "      <td>-1.0</td>\n",
       "      <td>13152.291667</td>\n",
       "      <td>44.879167</td>\n",
       "      <td>39.375</td>\n",
       "      <td>25.708333</td>\n",
       "      <td>102.96</td>\n",
       "      <td>275.0</td>\n",
       "      <td>2.969</td>\n",
       "      <td>2.993</td>\n",
       "    </tr>\n",
       "    <tr>\n",
       "      <th>2</th>\n",
       "      <td>2012-01-02</td>\n",
       "      <td>3.0</td>\n",
       "      <td>10446.0</td>\n",
       "      <td>24.05</td>\n",
       "      <td>23.86</td>\n",
       "      <td>0.0</td>\n",
       "      <td>0.19</td>\n",
       "      <td>47.0</td>\n",
       "      <td>44.0</td>\n",
       "      <td>2.0</td>\n",
       "      <td>...</td>\n",
       "      <td>1.38</td>\n",
       "      <td>0.0</td>\n",
       "      <td>13152.291667</td>\n",
       "      <td>44.879167</td>\n",
       "      <td>39.375</td>\n",
       "      <td>25.708333</td>\n",
       "      <td>102.96</td>\n",
       "      <td>275.0</td>\n",
       "      <td>2.969</td>\n",
       "      <td>2.993</td>\n",
       "    </tr>\n",
       "    <tr>\n",
       "      <th>3</th>\n",
       "      <td>2012-01-02</td>\n",
       "      <td>4.0</td>\n",
       "      <td>10374.0</td>\n",
       "      <td>20.49</td>\n",
       "      <td>20.34</td>\n",
       "      <td>0.0</td>\n",
       "      <td>0.15</td>\n",
       "      <td>46.0</td>\n",
       "      <td>42.0</td>\n",
       "      <td>2.0</td>\n",
       "      <td>...</td>\n",
       "      <td>8.65</td>\n",
       "      <td>0.0</td>\n",
       "      <td>13152.291667</td>\n",
       "      <td>44.879167</td>\n",
       "      <td>39.375</td>\n",
       "      <td>25.708333</td>\n",
       "      <td>102.96</td>\n",
       "      <td>275.0</td>\n",
       "      <td>2.969</td>\n",
       "      <td>2.993</td>\n",
       "    </tr>\n",
       "    <tr>\n",
       "      <th>4</th>\n",
       "      <td>2012-01-02</td>\n",
       "      <td>5.0</td>\n",
       "      <td>10473.0</td>\n",
       "      <td>20.46</td>\n",
       "      <td>20.34</td>\n",
       "      <td>0.0</td>\n",
       "      <td>0.12</td>\n",
       "      <td>43.0</td>\n",
       "      <td>37.0</td>\n",
       "      <td>2.0</td>\n",
       "      <td>...</td>\n",
       "      <td>-0.03</td>\n",
       "      <td>1.0</td>\n",
       "      <td>13152.291667</td>\n",
       "      <td>44.879167</td>\n",
       "      <td>39.375</td>\n",
       "      <td>25.708333</td>\n",
       "      <td>102.96</td>\n",
       "      <td>275.0</td>\n",
       "      <td>2.969</td>\n",
       "      <td>2.993</td>\n",
       "    </tr>\n",
       "  </tbody>\n",
       "</table>\n",
       "<p>5 rows × 26 columns</p>\n",
       "</div>"
      ],
      "text/plain": [
       "         Date  Hour  DA_DEMD_actual_value  DA_LMP_actual_value  DA_EC  DA_CC  \\\n",
       "0  2012-01-02   1.0               10453.0                30.36  30.24    0.0   \n",
       "1  2012-01-02   2.0               10447.0                30.95  30.80    0.0   \n",
       "2  2012-01-02   3.0               10446.0                24.05  23.86    0.0   \n",
       "3  2012-01-02   4.0               10374.0                20.49  20.34    0.0   \n",
       "4  2012-01-02   5.0               10473.0                20.46  20.34    0.0   \n",
       "\n",
       "   DA_MLC  DryBulb_actual_value  DewPnt_actual_value  Day  \\\n",
       "0    0.12                  47.0                 44.0  2.0   \n",
       "1    0.15                  47.0                 44.0  2.0   \n",
       "2    0.19                  47.0                 44.0  2.0   \n",
       "3    0.15                  46.0                 42.0  2.0   \n",
       "4    0.12                  43.0                 37.0  2.0   \n",
       "\n",
       "            ...             chg_in_da_lmp  chg_in_dry_bulb  \\\n",
       "0           ...                      1.74              0.0   \n",
       "1           ...                      3.12             -1.0   \n",
       "2           ...                      1.38              0.0   \n",
       "3           ...                      8.65              0.0   \n",
       "4           ...                     -0.03              1.0   \n",
       "\n",
       "   DA_DEMD_daily_mean  DA_LMP_daily_mean  DryBulb_daily_mean  \\\n",
       "0        13152.291667          44.879167              39.375   \n",
       "1        13152.291667          44.879167              39.375   \n",
       "2        13152.291667          44.879167              39.375   \n",
       "3        13152.291667          44.879167              39.375   \n",
       "4        13152.291667          44.879167              39.375   \n",
       "\n",
       "   DewPnt_daily_mean  Crude_Oil_Price  Crude_Oil_Vol  Natural_Gas_Price_Open  \\\n",
       "0          25.708333           102.96          275.0                   2.969   \n",
       "1          25.708333           102.96          275.0                   2.969   \n",
       "2          25.708333           102.96          275.0                   2.969   \n",
       "3          25.708333           102.96          275.0                   2.969   \n",
       "4          25.708333           102.96          275.0                   2.969   \n",
       "\n",
       "   Natural_Gas_Price_Close  \n",
       "0                    2.993  \n",
       "1                    2.993  \n",
       "2                    2.993  \n",
       "3                    2.993  \n",
       "4                    2.993  \n",
       "\n",
       "[5 rows x 26 columns]"
      ]
     },
     "execution_count": 971,
     "metadata": {},
     "output_type": "execute_result"
    }
   ],
   "source": [
    "tot_data.head()"
   ]
  },
  {
   "cell_type": "markdown",
   "metadata": {},
   "source": [
    "#### Helper Functions"
   ]
  },
  {
   "cell_type": "code",
   "execution_count": 972,
   "metadata": {},
   "outputs": [],
   "source": [
    "tot_data['Date'] = tot_data['Date'].apply(convert_string_to_datetime4)\n",
    "tot_data['Date'] = pd.to_datetime(tot_data['Date'])"
   ]
  },
  {
   "cell_type": "code",
   "execution_count": 973,
   "metadata": {},
   "outputs": [
    {
     "data": {
      "text/plain": [
       "array(['Date', 'Hour', 'DA_DEMD_actual_value', 'DA_LMP_actual_value',\n",
       "       'DA_EC', 'DA_CC', 'DA_MLC', 'DryBulb_actual_value',\n",
       "       'DewPnt_actual_value', 'Day', 'Day_Date', 'TARGET_DA_LMP',\n",
       "       'prev_day_da_demd', 'prev_day_da_lmp', 'prev_day_dry_bulb',\n",
       "       'chg_in_da_demd', 'chg_in_da_lmp', 'chg_in_dry_bulb',\n",
       "       'DA_DEMD_daily_mean', 'DA_LMP_daily_mean', 'DryBulb_daily_mean',\n",
       "       'DewPnt_daily_mean', 'Crude_Oil_Price', 'Crude_Oil_Vol',\n",
       "       'Natural_Gas_Price_Open', 'Natural_Gas_Price_Close'], dtype=object)"
      ]
     },
     "execution_count": 973,
     "metadata": {},
     "output_type": "execute_result"
    }
   ],
   "source": [
    "tot_data.columns.values"
   ]
  },
  {
   "cell_type": "code",
   "execution_count": 979,
   "metadata": {},
   "outputs": [],
   "source": [
    "tot_data['Month'] = tot_data['Date'].apply(lambda x: x.month)\n",
    "tot_data['Week'] = tot_data['Date'].apply(lambda x: x.week)"
   ]
  },
  {
   "cell_type": "markdown",
   "metadata": {},
   "source": [
    "#### Deal with -ve target values"
   ]
  },
  {
   "cell_type": "code",
   "execution_count": 980,
   "metadata": {
    "collapsed": true
   },
   "outputs": [],
   "source": [
    "X = tot_data"
   ]
  },
  {
   "cell_type": "code",
   "execution_count": 981,
   "metadata": {},
   "outputs": [
    {
     "name": "stderr",
     "output_type": "stream",
     "text": [
      "/Users/franklemuchahary/anaconda/lib/python3.6/site-packages/ipykernel_launcher.py:3: SettingWithCopyWarning: \n",
      "A value is trying to be set on a copy of a slice from a DataFrame\n",
      "\n",
      "See the caveats in the documentation: http://pandas.pydata.org/pandas-docs/stable/indexing.html#indexing-view-versus-copy\n",
      "  This is separate from the ipykernel package so we can avoid doing imports until\n"
     ]
    }
   ],
   "source": [
    "for i in range(len(X['TARGET_DA_LMP'])):\n",
    "    if(X['TARGET_DA_LMP'][i] < 1):\n",
    "        X['TARGET_DA_LMP'][i] = (X['TARGET_DA_LMP'][i-1]+X['TARGET_DA_LMP'][i+1])/2"
   ]
  },
  {
   "cell_type": "markdown",
   "metadata": {},
   "source": [
    "Date Time Index"
   ]
  },
  {
   "cell_type": "code",
   "execution_count": 982,
   "metadata": {
    "collapsed": true
   },
   "outputs": [],
   "source": [
    "X.set_index(['Date'], drop=True, inplace=True)"
   ]
  },
  {
   "cell_type": "code",
   "execution_count": 983,
   "metadata": {},
   "outputs": [
    {
     "data": {
      "text/html": [
       "<div>\n",
       "<style>\n",
       "    .dataframe thead tr:only-child th {\n",
       "        text-align: right;\n",
       "    }\n",
       "\n",
       "    .dataframe thead th {\n",
       "        text-align: left;\n",
       "    }\n",
       "\n",
       "    .dataframe tbody tr th {\n",
       "        vertical-align: top;\n",
       "    }\n",
       "</style>\n",
       "<table border=\"1\" class=\"dataframe\">\n",
       "  <thead>\n",
       "    <tr style=\"text-align: right;\">\n",
       "      <th></th>\n",
       "      <th>Hour</th>\n",
       "      <th>DA_DEMD_actual_value</th>\n",
       "      <th>DA_LMP_actual_value</th>\n",
       "      <th>DA_EC</th>\n",
       "      <th>DA_CC</th>\n",
       "      <th>DA_MLC</th>\n",
       "      <th>DryBulb_actual_value</th>\n",
       "      <th>DewPnt_actual_value</th>\n",
       "      <th>Day</th>\n",
       "      <th>Day_Date</th>\n",
       "      <th>...</th>\n",
       "      <th>DA_DEMD_daily_mean</th>\n",
       "      <th>DA_LMP_daily_mean</th>\n",
       "      <th>DryBulb_daily_mean</th>\n",
       "      <th>DewPnt_daily_mean</th>\n",
       "      <th>Crude_Oil_Price</th>\n",
       "      <th>Crude_Oil_Vol</th>\n",
       "      <th>Natural_Gas_Price_Open</th>\n",
       "      <th>Natural_Gas_Price_Close</th>\n",
       "      <th>Month</th>\n",
       "      <th>Week</th>\n",
       "    </tr>\n",
       "    <tr>\n",
       "      <th>Date</th>\n",
       "      <th></th>\n",
       "      <th></th>\n",
       "      <th></th>\n",
       "      <th></th>\n",
       "      <th></th>\n",
       "      <th></th>\n",
       "      <th></th>\n",
       "      <th></th>\n",
       "      <th></th>\n",
       "      <th></th>\n",
       "      <th></th>\n",
       "      <th></th>\n",
       "      <th></th>\n",
       "      <th></th>\n",
       "      <th></th>\n",
       "      <th></th>\n",
       "      <th></th>\n",
       "      <th></th>\n",
       "      <th></th>\n",
       "      <th></th>\n",
       "      <th></th>\n",
       "    </tr>\n",
       "  </thead>\n",
       "  <tbody>\n",
       "    <tr>\n",
       "      <th>2012-01-02</th>\n",
       "      <td>1.0</td>\n",
       "      <td>10453.0</td>\n",
       "      <td>30.36</td>\n",
       "      <td>30.24</td>\n",
       "      <td>0.0</td>\n",
       "      <td>0.12</td>\n",
       "      <td>47.0</td>\n",
       "      <td>44.0</td>\n",
       "      <td>2.0</td>\n",
       "      <td>2.0</td>\n",
       "      <td>...</td>\n",
       "      <td>13152.291667</td>\n",
       "      <td>44.879167</td>\n",
       "      <td>39.375</td>\n",
       "      <td>25.708333</td>\n",
       "      <td>102.96</td>\n",
       "      <td>275.0</td>\n",
       "      <td>2.969</td>\n",
       "      <td>2.993</td>\n",
       "      <td>1</td>\n",
       "      <td>1</td>\n",
       "    </tr>\n",
       "    <tr>\n",
       "      <th>2012-01-02</th>\n",
       "      <td>2.0</td>\n",
       "      <td>10447.0</td>\n",
       "      <td>30.95</td>\n",
       "      <td>30.80</td>\n",
       "      <td>0.0</td>\n",
       "      <td>0.15</td>\n",
       "      <td>47.0</td>\n",
       "      <td>44.0</td>\n",
       "      <td>2.0</td>\n",
       "      <td>2.0</td>\n",
       "      <td>...</td>\n",
       "      <td>13152.291667</td>\n",
       "      <td>44.879167</td>\n",
       "      <td>39.375</td>\n",
       "      <td>25.708333</td>\n",
       "      <td>102.96</td>\n",
       "      <td>275.0</td>\n",
       "      <td>2.969</td>\n",
       "      <td>2.993</td>\n",
       "      <td>1</td>\n",
       "      <td>1</td>\n",
       "    </tr>\n",
       "    <tr>\n",
       "      <th>2012-01-02</th>\n",
       "      <td>3.0</td>\n",
       "      <td>10446.0</td>\n",
       "      <td>24.05</td>\n",
       "      <td>23.86</td>\n",
       "      <td>0.0</td>\n",
       "      <td>0.19</td>\n",
       "      <td>47.0</td>\n",
       "      <td>44.0</td>\n",
       "      <td>2.0</td>\n",
       "      <td>2.0</td>\n",
       "      <td>...</td>\n",
       "      <td>13152.291667</td>\n",
       "      <td>44.879167</td>\n",
       "      <td>39.375</td>\n",
       "      <td>25.708333</td>\n",
       "      <td>102.96</td>\n",
       "      <td>275.0</td>\n",
       "      <td>2.969</td>\n",
       "      <td>2.993</td>\n",
       "      <td>1</td>\n",
       "      <td>1</td>\n",
       "    </tr>\n",
       "    <tr>\n",
       "      <th>2012-01-02</th>\n",
       "      <td>4.0</td>\n",
       "      <td>10374.0</td>\n",
       "      <td>20.49</td>\n",
       "      <td>20.34</td>\n",
       "      <td>0.0</td>\n",
       "      <td>0.15</td>\n",
       "      <td>46.0</td>\n",
       "      <td>42.0</td>\n",
       "      <td>2.0</td>\n",
       "      <td>2.0</td>\n",
       "      <td>...</td>\n",
       "      <td>13152.291667</td>\n",
       "      <td>44.879167</td>\n",
       "      <td>39.375</td>\n",
       "      <td>25.708333</td>\n",
       "      <td>102.96</td>\n",
       "      <td>275.0</td>\n",
       "      <td>2.969</td>\n",
       "      <td>2.993</td>\n",
       "      <td>1</td>\n",
       "      <td>1</td>\n",
       "    </tr>\n",
       "    <tr>\n",
       "      <th>2012-01-02</th>\n",
       "      <td>5.0</td>\n",
       "      <td>10473.0</td>\n",
       "      <td>20.46</td>\n",
       "      <td>20.34</td>\n",
       "      <td>0.0</td>\n",
       "      <td>0.12</td>\n",
       "      <td>43.0</td>\n",
       "      <td>37.0</td>\n",
       "      <td>2.0</td>\n",
       "      <td>2.0</td>\n",
       "      <td>...</td>\n",
       "      <td>13152.291667</td>\n",
       "      <td>44.879167</td>\n",
       "      <td>39.375</td>\n",
       "      <td>25.708333</td>\n",
       "      <td>102.96</td>\n",
       "      <td>275.0</td>\n",
       "      <td>2.969</td>\n",
       "      <td>2.993</td>\n",
       "      <td>1</td>\n",
       "      <td>1</td>\n",
       "    </tr>\n",
       "  </tbody>\n",
       "</table>\n",
       "<p>5 rows × 27 columns</p>\n",
       "</div>"
      ],
      "text/plain": [
       "            Hour  DA_DEMD_actual_value  DA_LMP_actual_value  DA_EC  DA_CC  \\\n",
       "Date                                                                        \n",
       "2012-01-02   1.0               10453.0                30.36  30.24    0.0   \n",
       "2012-01-02   2.0               10447.0                30.95  30.80    0.0   \n",
       "2012-01-02   3.0               10446.0                24.05  23.86    0.0   \n",
       "2012-01-02   4.0               10374.0                20.49  20.34    0.0   \n",
       "2012-01-02   5.0               10473.0                20.46  20.34    0.0   \n",
       "\n",
       "            DA_MLC  DryBulb_actual_value  DewPnt_actual_value  Day  Day_Date  \\\n",
       "Date                                                                           \n",
       "2012-01-02    0.12                  47.0                 44.0  2.0       2.0   \n",
       "2012-01-02    0.15                  47.0                 44.0  2.0       2.0   \n",
       "2012-01-02    0.19                  47.0                 44.0  2.0       2.0   \n",
       "2012-01-02    0.15                  46.0                 42.0  2.0       2.0   \n",
       "2012-01-02    0.12                  43.0                 37.0  2.0       2.0   \n",
       "\n",
       "            ...   DA_DEMD_daily_mean  DA_LMP_daily_mean  DryBulb_daily_mean  \\\n",
       "Date        ...                                                               \n",
       "2012-01-02  ...         13152.291667          44.879167              39.375   \n",
       "2012-01-02  ...         13152.291667          44.879167              39.375   \n",
       "2012-01-02  ...         13152.291667          44.879167              39.375   \n",
       "2012-01-02  ...         13152.291667          44.879167              39.375   \n",
       "2012-01-02  ...         13152.291667          44.879167              39.375   \n",
       "\n",
       "            DewPnt_daily_mean  Crude_Oil_Price  Crude_Oil_Vol  \\\n",
       "Date                                                            \n",
       "2012-01-02          25.708333           102.96          275.0   \n",
       "2012-01-02          25.708333           102.96          275.0   \n",
       "2012-01-02          25.708333           102.96          275.0   \n",
       "2012-01-02          25.708333           102.96          275.0   \n",
       "2012-01-02          25.708333           102.96          275.0   \n",
       "\n",
       "            Natural_Gas_Price_Open  Natural_Gas_Price_Close  Month  Week  \n",
       "Date                                                                      \n",
       "2012-01-02                   2.969                    2.993      1     1  \n",
       "2012-01-02                   2.969                    2.993      1     1  \n",
       "2012-01-02                   2.969                    2.993      1     1  \n",
       "2012-01-02                   2.969                    2.993      1     1  \n",
       "2012-01-02                   2.969                    2.993      1     1  \n",
       "\n",
       "[5 rows x 27 columns]"
      ]
     },
     "execution_count": 983,
     "metadata": {},
     "output_type": "execute_result"
    }
   ],
   "source": [
    "X.head()"
   ]
  },
  {
   "cell_type": "markdown",
   "metadata": {},
   "source": [
    "#### ------------- DATA PREP OVER --------------------"
   ]
  },
  {
   "cell_type": "raw",
   "metadata": {},
   "source": []
  },
  {
   "cell_type": "markdown",
   "metadata": {},
   "source": [
    "## FEATURE IMPORTANCE STUDY"
   ]
  },
  {
   "cell_type": "code",
   "execution_count": 984,
   "metadata": {
    "collapsed": true
   },
   "outputs": [],
   "source": [
    "from sklearn.metrics import mean_absolute_error\n",
    "from sklearn.metrics import mean_squared_error\n",
    "from sklearn.preprocessing import StandardScaler\n",
    "\n",
    "#function to calculate mape\n",
    "def mean_absolute_percentage_error(y_pred, y_true): \n",
    "    return np.mean(np.abs((y_true - y_pred) / y_true)) * 100\n",
    "\n",
    "def point_absolute_percentage_error(y_pred, y_true):\n",
    "    return np.abs((y_true - y_pred) / y_true) * 100\n",
    "\n",
    "#GIVE Everything you can imagine of function - SD, VAR, MIN and MAX ERROR, CI\n",
    "def get_CI_VAR_SD(error_list):\n",
    "    t = stats.t.ppf(1-0.025, len(error_list)-1)\n",
    "    max_err = np.mean(error_list) + (t * (np.std(error_list)/np.sqrt(len(error_list))))\n",
    "    min_err = np.mean(error_list) - (t * (np.std(error_list)/np.sqrt(len(error_list))))\n",
    "    ci = ((max_err - np.mean(error_list))/np.mean(error_list))*100\n",
    "    sd = np.std(error_list)\n",
    "    var = np.var(error_list)\n",
    "    return (max_err, min_err, ci, sd, var)"
   ]
  },
  {
   "cell_type": "code",
   "execution_count": 985,
   "metadata": {
    "collapsed": true
   },
   "outputs": [],
   "source": [
    "from sklearn.linear_model import Lasso, Ridge, ElasticNet\n",
    "from sklearn.preprocessing import StandardScaler\n",
    "from sklearn.feature_selection import mutual_info_regression"
   ]
  },
  {
   "cell_type": "code",
   "execution_count": 986,
   "metadata": {},
   "outputs": [
    {
     "name": "stdout",
     "output_type": "stream",
     "text": [
      "13224\n",
      "4271\n"
     ]
    }
   ],
   "source": [
    "train_feature_imp = X[X.Day_Date<24]\n",
    "test_feature_imp = X[X.Day_Date>=24]\n",
    "\n",
    "#train1 = train.query('Day_Date < 2')\n",
    "#train2 = train.query('Day_Date > 9 & Day_Date < 12')\n",
    "#train3 = train.query('Day_Date > 18 & Day_Date < 22')\n",
    "#train = train1.append(train2)\n",
    "#train = train.append(train3)\n",
    "#test = test1.append(test2)\n",
    "\n",
    "train_feature_imp = train_feature_imp.reset_index(drop=True)\n",
    "test_fetaur_imp = test_feature_imp.reset_index(drop=True)\n",
    "\n",
    "print(len(train_feature_imp))\n",
    "print(len(test_feature_imp))"
   ]
  },
  {
   "cell_type": "code",
   "execution_count": 987,
   "metadata": {},
   "outputs": [
    {
     "data": {
      "text/html": [
       "<div>\n",
       "<style>\n",
       "    .dataframe thead tr:only-child th {\n",
       "        text-align: right;\n",
       "    }\n",
       "\n",
       "    .dataframe thead th {\n",
       "        text-align: left;\n",
       "    }\n",
       "\n",
       "    .dataframe tbody tr th {\n",
       "        vertical-align: top;\n",
       "    }\n",
       "</style>\n",
       "<table border=\"1\" class=\"dataframe\">\n",
       "  <thead>\n",
       "    <tr style=\"text-align: right;\">\n",
       "      <th></th>\n",
       "      <th>Hour</th>\n",
       "      <th>DA_DEMD_actual_value</th>\n",
       "      <th>DA_LMP_actual_value</th>\n",
       "      <th>DA_EC</th>\n",
       "      <th>DA_CC</th>\n",
       "      <th>DA_MLC</th>\n",
       "      <th>DryBulb_actual_value</th>\n",
       "      <th>DewPnt_actual_value</th>\n",
       "      <th>Day</th>\n",
       "      <th>Day_Date</th>\n",
       "      <th>...</th>\n",
       "      <th>DA_DEMD_daily_mean</th>\n",
       "      <th>DA_LMP_daily_mean</th>\n",
       "      <th>DryBulb_daily_mean</th>\n",
       "      <th>DewPnt_daily_mean</th>\n",
       "      <th>Crude_Oil_Price</th>\n",
       "      <th>Crude_Oil_Vol</th>\n",
       "      <th>Natural_Gas_Price_Open</th>\n",
       "      <th>Natural_Gas_Price_Close</th>\n",
       "      <th>Month</th>\n",
       "      <th>Week</th>\n",
       "    </tr>\n",
       "  </thead>\n",
       "  <tbody>\n",
       "    <tr>\n",
       "      <th>0</th>\n",
       "      <td>1.0</td>\n",
       "      <td>10453.0</td>\n",
       "      <td>30.36</td>\n",
       "      <td>30.24</td>\n",
       "      <td>0.0</td>\n",
       "      <td>0.12</td>\n",
       "      <td>47.0</td>\n",
       "      <td>44.0</td>\n",
       "      <td>2.0</td>\n",
       "      <td>2.0</td>\n",
       "      <td>...</td>\n",
       "      <td>13152.291667</td>\n",
       "      <td>44.879167</td>\n",
       "      <td>39.375</td>\n",
       "      <td>25.708333</td>\n",
       "      <td>102.96</td>\n",
       "      <td>275.0</td>\n",
       "      <td>2.969</td>\n",
       "      <td>2.993</td>\n",
       "      <td>1</td>\n",
       "      <td>1</td>\n",
       "    </tr>\n",
       "    <tr>\n",
       "      <th>1</th>\n",
       "      <td>2.0</td>\n",
       "      <td>10447.0</td>\n",
       "      <td>30.95</td>\n",
       "      <td>30.80</td>\n",
       "      <td>0.0</td>\n",
       "      <td>0.15</td>\n",
       "      <td>47.0</td>\n",
       "      <td>44.0</td>\n",
       "      <td>2.0</td>\n",
       "      <td>2.0</td>\n",
       "      <td>...</td>\n",
       "      <td>13152.291667</td>\n",
       "      <td>44.879167</td>\n",
       "      <td>39.375</td>\n",
       "      <td>25.708333</td>\n",
       "      <td>102.96</td>\n",
       "      <td>275.0</td>\n",
       "      <td>2.969</td>\n",
       "      <td>2.993</td>\n",
       "      <td>1</td>\n",
       "      <td>1</td>\n",
       "    </tr>\n",
       "    <tr>\n",
       "      <th>2</th>\n",
       "      <td>3.0</td>\n",
       "      <td>10446.0</td>\n",
       "      <td>24.05</td>\n",
       "      <td>23.86</td>\n",
       "      <td>0.0</td>\n",
       "      <td>0.19</td>\n",
       "      <td>47.0</td>\n",
       "      <td>44.0</td>\n",
       "      <td>2.0</td>\n",
       "      <td>2.0</td>\n",
       "      <td>...</td>\n",
       "      <td>13152.291667</td>\n",
       "      <td>44.879167</td>\n",
       "      <td>39.375</td>\n",
       "      <td>25.708333</td>\n",
       "      <td>102.96</td>\n",
       "      <td>275.0</td>\n",
       "      <td>2.969</td>\n",
       "      <td>2.993</td>\n",
       "      <td>1</td>\n",
       "      <td>1</td>\n",
       "    </tr>\n",
       "    <tr>\n",
       "      <th>3</th>\n",
       "      <td>4.0</td>\n",
       "      <td>10374.0</td>\n",
       "      <td>20.49</td>\n",
       "      <td>20.34</td>\n",
       "      <td>0.0</td>\n",
       "      <td>0.15</td>\n",
       "      <td>46.0</td>\n",
       "      <td>42.0</td>\n",
       "      <td>2.0</td>\n",
       "      <td>2.0</td>\n",
       "      <td>...</td>\n",
       "      <td>13152.291667</td>\n",
       "      <td>44.879167</td>\n",
       "      <td>39.375</td>\n",
       "      <td>25.708333</td>\n",
       "      <td>102.96</td>\n",
       "      <td>275.0</td>\n",
       "      <td>2.969</td>\n",
       "      <td>2.993</td>\n",
       "      <td>1</td>\n",
       "      <td>1</td>\n",
       "    </tr>\n",
       "    <tr>\n",
       "      <th>4</th>\n",
       "      <td>5.0</td>\n",
       "      <td>10473.0</td>\n",
       "      <td>20.46</td>\n",
       "      <td>20.34</td>\n",
       "      <td>0.0</td>\n",
       "      <td>0.12</td>\n",
       "      <td>43.0</td>\n",
       "      <td>37.0</td>\n",
       "      <td>2.0</td>\n",
       "      <td>2.0</td>\n",
       "      <td>...</td>\n",
       "      <td>13152.291667</td>\n",
       "      <td>44.879167</td>\n",
       "      <td>39.375</td>\n",
       "      <td>25.708333</td>\n",
       "      <td>102.96</td>\n",
       "      <td>275.0</td>\n",
       "      <td>2.969</td>\n",
       "      <td>2.993</td>\n",
       "      <td>1</td>\n",
       "      <td>1</td>\n",
       "    </tr>\n",
       "  </tbody>\n",
       "</table>\n",
       "<p>5 rows × 27 columns</p>\n",
       "</div>"
      ],
      "text/plain": [
       "   Hour  DA_DEMD_actual_value  DA_LMP_actual_value  DA_EC  DA_CC  DA_MLC  \\\n",
       "0   1.0               10453.0                30.36  30.24    0.0    0.12   \n",
       "1   2.0               10447.0                30.95  30.80    0.0    0.15   \n",
       "2   3.0               10446.0                24.05  23.86    0.0    0.19   \n",
       "3   4.0               10374.0                20.49  20.34    0.0    0.15   \n",
       "4   5.0               10473.0                20.46  20.34    0.0    0.12   \n",
       "\n",
       "   DryBulb_actual_value  DewPnt_actual_value  Day  Day_Date  ...   \\\n",
       "0                  47.0                 44.0  2.0       2.0  ...    \n",
       "1                  47.0                 44.0  2.0       2.0  ...    \n",
       "2                  47.0                 44.0  2.0       2.0  ...    \n",
       "3                  46.0                 42.0  2.0       2.0  ...    \n",
       "4                  43.0                 37.0  2.0       2.0  ...    \n",
       "\n",
       "   DA_DEMD_daily_mean  DA_LMP_daily_mean  DryBulb_daily_mean  \\\n",
       "0        13152.291667          44.879167              39.375   \n",
       "1        13152.291667          44.879167              39.375   \n",
       "2        13152.291667          44.879167              39.375   \n",
       "3        13152.291667          44.879167              39.375   \n",
       "4        13152.291667          44.879167              39.375   \n",
       "\n",
       "   DewPnt_daily_mean  Crude_Oil_Price  Crude_Oil_Vol  Natural_Gas_Price_Open  \\\n",
       "0          25.708333           102.96          275.0                   2.969   \n",
       "1          25.708333           102.96          275.0                   2.969   \n",
       "2          25.708333           102.96          275.0                   2.969   \n",
       "3          25.708333           102.96          275.0                   2.969   \n",
       "4          25.708333           102.96          275.0                   2.969   \n",
       "\n",
       "   Natural_Gas_Price_Close  Month  Week  \n",
       "0                    2.993      1     1  \n",
       "1                    2.993      1     1  \n",
       "2                    2.993      1     1  \n",
       "3                    2.993      1     1  \n",
       "4                    2.993      1     1  \n",
       "\n",
       "[5 rows x 27 columns]"
      ]
     },
     "execution_count": 987,
     "metadata": {},
     "output_type": "execute_result"
    }
   ],
   "source": [
    "train_feature_imp.head()"
   ]
  },
  {
   "cell_type": "code",
   "execution_count": 988,
   "metadata": {},
   "outputs": [],
   "source": [
    "cols_feature_imp = X.columns.difference(['TARGET_DA_LMP']).values"
   ]
  },
  {
   "cell_type": "code",
   "execution_count": 1074,
   "metadata": {
    "collapsed": true
   },
   "outputs": [],
   "source": [
    "cols_feature_imp2 = ['DA_LMP_actual_value', 'chg_in_da_demd', 'chg_in_da_lmp', 'prev_day_da_lmp', 'DA_LMP_daily_mean',\n",
    " 'Hour', 'DA_DEMD_actual_value', 'DryBulb_actual_value', 'DryBulb_daily_mean', \n",
    " 'Crude_Oil_Price', 'Day', 'Day_Date', 'Month']"
   ]
  },
  {
   "cell_type": "code",
   "execution_count": 1075,
   "metadata": {
    "collapsed": true
   },
   "outputs": [],
   "source": [
    "train_feature_imp_x = train_feature_imp[cols_feature_imp2]\n",
    "train_feature_imp_y = pd.DataFrame(train_feature_imp['TARGET_DA_LMP'])\n",
    "test_feature_imp_x = test_feature_imp[cols_feature_imp2]\n",
    "test_feature_imp_y = pd.DataFrame(test_feature_imp['TARGET_DA_LMP'])"
   ]
  },
  {
   "cell_type": "code",
   "execution_count": 1076,
   "metadata": {},
   "outputs": [],
   "source": [
    "scaler = StandardScaler()\n",
    "train_feature_imp_scaled = scaler.fit_transform(train_feature_imp_x)\n",
    "test_feature_imp_scaled = scaler.fit_transform(test_feature_imp_x)"
   ]
  },
  {
   "cell_type": "markdown",
   "metadata": {},
   "source": [
    "##### ElasticNet"
   ]
  },
  {
   "cell_type": "code",
   "execution_count": 1101,
   "metadata": {},
   "outputs": [
    {
     "data": {
      "text/plain": [
       "array([ 5.96752604, -0.24823747, -0.2916021 ,  4.91557576,  5.28167857,\n",
       "        0.20738785,  2.0982742 , -0.94089719, -1.30794027, -0.        ,\n",
       "       -0.        ,  0.        , -0.        ])"
      ]
     },
     "execution_count": 1101,
     "metadata": {},
     "output_type": "execute_result"
    }
   ],
   "source": [
    "enet_model = ElasticNet(alpha=4, l1_ratio=0.3)\n",
    "enet_model = enet_model.fit(train_feature_imp_scaled, train_feature_imp_y)\n",
    "enet_model.coef_"
   ]
  },
  {
   "cell_type": "markdown",
   "metadata": {},
   "source": [
    "##### Mutual Info"
   ]
  },
  {
   "cell_type": "code",
   "execution_count": 1078,
   "metadata": {},
   "outputs": [
    {
     "name": "stderr",
     "output_type": "stream",
     "text": [
      "/Users/franklemuchahary/anaconda/lib/python3.6/site-packages/sklearn/utils/validation.py:578: DataConversionWarning: A column-vector y was passed when a 1d array was expected. Please change the shape of y to (n_samples, ), for example using ravel().\n",
      "  y = column_or_1d(y, warn=True)\n"
     ]
    }
   ],
   "source": [
    "mutual_info = mutual_info_regression(train_feature_imp_scaled, train_feature_imp_y.values, n_neighbors=100,\n",
    "                                    random_state=333)"
   ]
  },
  {
   "cell_type": "code",
   "execution_count": 1079,
   "metadata": {},
   "outputs": [
    {
     "data": {
      "text/plain": [
       "array([ 1.45784602,  0.01801191,  0.09031685,  0.85133752,  0.67403433,\n",
       "        0.14149557,  0.30681221,  0.26296614,  0.25295537,  0.14922877,\n",
       "        0.01919782,  0.02995272,  0.17757246])"
      ]
     },
     "execution_count": 1079,
     "metadata": {},
     "output_type": "execute_result"
    }
   ],
   "source": [
    "mutual_info"
   ]
  },
  {
   "cell_type": "markdown",
   "metadata": {},
   "source": [
    "##### Plots\n",
    "<code>\n",
    "['DA_LMP_actual_value', 'chg_in_da_demd', 'chg_in_da_lmp', 'prev_day_da_lmp', 'DA_LMP_daily_mean',\n",
    " 'Hour', 'DA_DEMD_actual_value', 'DryBulb_actual_value', 'DryBulb_daily_mean', \n",
    " 'Crude_Oil_Price']\n",
    "</code>\n",
    "<br>\n",
    "<code>\n",
    "['Previous Hour DA LMP', 'Previous Day Change in DA DEMAND', 'Previous Day Change in DA LMP', 'Previous Day DA LMP',\n",
    " 'Daily Average DA LMP', 'Hour Indicator', 'Previous Hour DA DEMAND', 'Hourly Dry Bulb Temp', \n",
    " 'Daily Average Dry Bulb Temp', 'Crude Oil Prices', 'Weekday Indicator', 'Date Part Day Indicator', 'Month Indicator']\n",
    "</code>\n"
   ]
  },
  {
   "cell_type": "code",
   "execution_count": 1080,
   "metadata": {
    "collapsed": true
   },
   "outputs": [],
   "source": [
    "sanitised_colnames_set = tuple(['Previous Hour DA LMP', 'Previous Day Change in DA DEMAND', \n",
    "                                'Previous Day Change in DA LMP', 'Previous Day DA LMP',\n",
    " 'Daily Average DA LMP', 'Hour Indicator', 'Previous Hour DA DEMAND', 'Hourly Dry Bulb Temp', \n",
    " 'Daily Average Dry Bulb Temp', 'Crude Oil Prices', 'Weekday Indicator', \n",
    "                                'Date Part Day Indicator', 'Month Indicator'])"
   ]
  },
  {
   "cell_type": "code",
   "execution_count": 1109,
   "metadata": {},
   "outputs": [
    {
     "data": {
      "image/png": "[encoded data removed]",
      "text/plain": [
       "<matplotlib.figure.Figure at 0x128e149e8>"
      ]
     },
     "metadata": {},
     "output_type": "display_data"
    }
   ],
   "source": [
    "#plt.plot(lasso_model.coef_, linewidth=2, linestyle='--', label='LASSO', color='blue')\n",
    "plt.plot(mutual_info, linewidth=2, linestyle='-', label='Mutual Information Value', color='red')\n",
    "plt.plot(enet_model.coef_, linewidth=2, linestyle='--', label='ElasticNet Coefficients', color='green')\n",
    "plt.ylim(-3, 7)\n",
    "plt.xticks(np.arange(len(train_feature_imp_x.columns.values)), \n",
    "           sanitised_colnames_set, rotation=90, fontsize=12)\n",
    "plt.axhline(y=0, color='black')\n",
    "plt.xlabel(\"Variable Names\", {'fontsize':23})\n",
    "plt.ylabel(\"Mutual Information Value / Coefficient Values \",{'fontsize':23})\n",
    "plt.yticks(fontsize=20, rotation=0)\n",
    "plt.title(\"Feature Importances\", {'fontsize':30})\n",
    "plt.legend(loc=1, fontsize=23)\n",
    "plt.gcf()\n",
    "plt.savefig(\"../NEWPLOTS_Feb19/FeatureImportancePlot.jpg\", format='jpg', bbox_inches='tight', dpi=600)"
   ]
  },
  {
   "cell_type": "raw",
   "metadata": {},
   "source": []
  },
  {
   "cell_type": "raw",
   "metadata": {},
   "source": []
  },
  {
   "cell_type": "raw",
   "metadata": {},
   "source": [
    "## ARIMAX"
   ]
  },
  {
   "cell_type": "raw",
   "metadata": {},
   "source": [
    "#### Train Test Split\n",
    "Different method used because model is time series model"
   ]
  },
  {
   "cell_type": "raw",
   "metadata": {},
   "source": [
    "X.set_index('Date', drop=True, inplace=True)"
   ]
  },
  {
   "cell_type": "raw",
   "metadata": {},
   "source": [
    "train = X['2012-01-02':'2012-12-31']"
   ]
  },
  {
   "cell_type": "raw",
   "metadata": {},
   "source": [
    "test = X['2013-01-01':'2013-12-31']"
   ]
  },
  {
   "cell_type": "raw",
   "metadata": {},
   "source": [
    "plt.plot(train['TARGET_DA_LMP'])"
   ]
  },
  {
   "cell_type": "raw",
   "metadata": {},
   "source": [
    "#### Evaluation Metrics"
   ]
  },
  {
   "cell_type": "raw",
   "metadata": {},
   "source": [
    "from sklearn.metrics import mean_absolute_error\n",
    "from sklearn.metrics import mean_squared_error\n",
    "from sklearn.preprocessing import StandardScaler\n",
    "\n",
    "#function to calculate mape\n",
    "def mean_absolute_percentage_error(y_pred, y_true): \n",
    "    return np.mean(np.abs((y_true - y_pred) / y_true)) * 100\n",
    "\n",
    "def point_absolute_percentage_error(y_pred, y_true):\n",
    "    return np.abs((y_true - y_pred) / y_true) * 100\n",
    "\n",
    "#GIVE Everything you can imagine of function - SD, VAR, MIN and MAX ERROR, CI\n",
    "def get_CI_VAR_SD(error_list):\n",
    "    t = stats.t.ppf(1-0.025, len(error_list)-1)\n",
    "    max_err = np.mean(error_list) + (t * (np.std(error_list)/np.sqrt(len(error_list))))\n",
    "    min_err = np.mean(error_list) - (t * (np.std(error_list)/np.sqrt(len(error_list))))\n",
    "    ci = ((max_err - np.mean(error_list))/np.mean(error_list))*100\n",
    "    sd = np.std(error_list)\n",
    "    var = np.var(error_list)\n",
    "    return (max_err, min_err, ci, sd, var)"
   ]
  },
  {
   "cell_type": "raw",
   "metadata": {},
   "source": [
    "#### Stationarity test"
   ]
  },
  {
   "cell_type": "raw",
   "metadata": {},
   "source": [
    "from statsmodels.tsa.stattools import adfuller\n",
    "from statsmodels.tsa.stattools import acf, pacf\n",
    "from statsmodels.tsa.arima_model import ARIMA"
   ]
  },
  {
   "cell_type": "raw",
   "metadata": {},
   "source": [
    "def test_stationarity(timeseries):\n",
    "    \n",
    "    #Determing rolling statistics\n",
    "    rolmean = pd.rolling_mean(timeseries, window=100)\n",
    "    rolstd = pd.rolling_std(timeseries, window=100)\n",
    "\n",
    "    #Plot rolling statistics:\n",
    "    orig = plt.plot(timeseries, color='blue',label='Original')\n",
    "    mean = plt.plot(rolmean, color='red', label='Rolling Mean')\n",
    "    std = plt.plot(rolstd, color='black', label = 'Rolling Std')\n",
    "    plt.legend(loc='best')\n",
    "    plt.title('Rolling Mean & Standard Deviation')\n",
    "    plt.show(block=False)\n",
    "    \n",
    "    #Perform Dickey-Fuller test:\n",
    "    print('Results of Dickey-Fuller Test:')\n",
    "    dftest = adfuller(timeseries, autolag='AIC')\n",
    "    dfoutput = pd.Series(dftest[0:4], index=['Test Statistic','p-value','#Lags Used','Number of Observations Used'])\n",
    "    for key,value in dftest[4].items():\n",
    "        dfoutput['Critical Value (%s)'%key] = value\n",
    "    print(dfoutput)"
   ]
  },
  {
   "cell_type": "raw",
   "metadata": {},
   "source": [
    "test_stationarity(train['TARGET_DA_LMP'])"
   ]
  },
  {
   "cell_type": "raw",
   "metadata": {},
   "source": [
    "test_stationarity(test['TARGET_DA_LMP'])"
   ]
  },
  {
   "cell_type": "raw",
   "metadata": {},
   "source": [
    "### MODEL"
   ]
  },
  {
   "cell_type": "raw",
   "metadata": {},
   "source": [
    "cond_to_use = ['DA_LMP_actual_value', 'chg_in_da_demd', 'chg_in_da_lmp', 'prev_day_da_lmp', 'DA_LMP_daily_mean',\n",
    "              'Hour', 'DA_DEMD_actual_value', 'DryBulb_actual_value', 'DryBulb_daily_mean', 'Crude_Oil_Price']\n",
    "train_x = train[cond_to_use]\n",
    "test_x = test[cond_to_use]\n",
    "train_y = train[['TARGET_DA_LMP']]\n",
    "test_y = test[['TARGET_DA_LMP']]"
   ]
  },
  {
   "cell_type": "raw",
   "metadata": {},
   "source": [
    "train_std_scaler2 = StandardScaler()\n",
    "train_std_scaler2_y = StandardScaler()\n",
    "\n",
    "test_std_scaler2 = StandardScaler()\n",
    "test_std_scaler2_y = StandardScaler()\n",
    "\n",
    "train_x_scaled = pd.DataFrame(train_std_scaler2.fit_transform(train_x)).set_index(train_x.index)\n",
    "train_y_scaled = pd.DataFrame(train_std_scaler2_y.fit_transform(train_y)).set_index(train_y.index)\n",
    "\n",
    "test_x_scaled = pd.DataFrame(test_std_scaler2.fit_transform(test_x)).set_index(test_x.index)\n",
    "test_y_scaled = pd.DataFrame(test_std_scaler2_y.fit_transform(test_y)).set_index(test_y.index)"
   ]
  },
  {
   "cell_type": "raw",
   "metadata": {},
   "source": [
    "### TRAIN"
   ]
  },
  {
   "cell_type": "raw",
   "metadata": {},
   "source": [
    "model = ARIMA(train_y_scaled, exog=train_x_scaled, order=(0,0,0))\n",
    "model_fit = model.fit(disp=0)\n",
    "print(model_fit.summary())"
   ]
  },
  {
   "cell_type": "raw",
   "metadata": {},
   "source": [
    "residuals = pd.DataFrame(model_fit.resid)\n",
    "residuals.plot()\n",
    "plt.show()"
   ]
  },
  {
   "cell_type": "raw",
   "metadata": {},
   "source": [
    "residuals.plot(kind='kde')\n",
    "plt.show()\n",
    "print(residuals.describe())"
   ]
  },
  {
   "cell_type": "raw",
   "metadata": {},
   "source": [
    "TRAIN RESULTS"
   ]
  },
  {
   "cell_type": "raw",
   "metadata": {},
   "source": [
    "print('MAPE:', mean_absolute_percentage_error(train['TARGET_DA_LMP'].values, \n",
    "                                              train_std_scaler2_y.inverse_transform(model_fit.fittedvalues)))\n",
    "print('MAE:', mean_absolute_error(train['TARGET_DA_LMP'].values, \n",
    "                                  train_std_scaler2_y.inverse_transform(model_fit.fittedvalues)))"
   ]
  },
  {
   "cell_type": "raw",
   "metadata": {},
   "source": [
    "### Iterative Train - Test Process\n",
    "Daily basis <br>\n",
    "NEED to convert this to a monthly method -> This will allow trendline comparison"
   ]
  },
  {
   "cell_type": "raw",
   "metadata": {},
   "source": [
    "from collections import defaultdict"
   ]
  },
  {
   "cell_type": "raw",
   "metadata": {},
   "source": [
    "history_x, history_y = train_x, train_y\n",
    "prediction_results_history = []\n",
    "day_wise_mape_history = []\n",
    "day_wise_mae_history = []"
   ]
  },
  {
   "cell_type": "raw",
   "metadata": {},
   "source": [
    "monthly_preds = defaultdict(list)\n",
    "monthly_mape =  defaultdict(list)\n",
    "\n",
    "weekly_preds = defaultdict(list)\n",
    "weekly_mape =  defaultdict(list)"
   ]
  },
  {
   "cell_type": "raw",
   "metadata": {},
   "source": [
    "day_count = 1\n",
    "\n",
    "for i in range(0, len(test_x), 24):\n",
    "    \n",
    "    test_data_x = test_x[i:i+24]\n",
    "    test_data_y = test_y[i:i+24]\n",
    "    \n",
    "    model = ARIMA(history_y, exog=history_x, order=(0,0,0))\n",
    "    model_fit = model.fit(disp=0)\n",
    "    output = model_fit.forecast(exog=test_data_x, steps=24)\n",
    "    \n",
    "    mape_day = mean_absolute_percentage_error(test_data_y.values, \n",
    "                                             output[0])\n",
    "    mae_day = mean_absolute_error(test_data_y.values, \n",
    "                                  output[0])\n",
    "    print('DAY '+str(day_count)+' MAPE: ', mape_day)\n",
    "    print('DAY '+str(day_count)+' MAE: ', mae_day, end='\\n\\n\\n')\n",
    "    \n",
    "    ### save results to list\n",
    "    prediction_results_history.extend(output[0])\n",
    "    history_x.append(test_data_x)\n",
    "    history_y.append(test_data_y)\n",
    "    day_wise_mape_history.append(mape_day)\n",
    "    day_wise_mae_history.append(mae_day)\n",
    "    \n",
    "    ### save monthly and weekly results to dict\n",
    "    month = test_x.index[i].month\n",
    "    week = test_x.index[i].week\n",
    "    \n",
    "    monthly_mape[month].append(mape_day)\n",
    "    weekly_mape[week].append(mape_day)\n",
    "    \n",
    "    monthly_preds[month].append(output[0])\n",
    "    weekly_preds[week].append(output[0])\n",
    "    \n",
    "    \n",
    "    day_count+=1\n",
    "    if day_count==365:\n",
    "        break"
   ]
  },
  {
   "cell_type": "raw",
   "metadata": {},
   "source": [
    " ### TEST Performances"
   ]
  },
  {
   "cell_type": "raw",
   "metadata": {},
   "source": [
    "np.mean(day_wise_mape_history)"
   ]
  },
  {
   "cell_type": "raw",
   "metadata": {},
   "source": [
    "[np.mean(day_wise_mape_history[len(day_wise_mape_history)-31:-1])]"
   ]
  },
  {
   "cell_type": "raw",
   "metadata": {},
   "source": [
    "np.mean(day_wise_mape_history[0:30])"
   ]
  },
  {
   "cell_type": "raw",
   "metadata": {},
   "source": [
    "np.mean(day_wise_mae_history)"
   ]
  },
  {
   "cell_type": "raw",
   "metadata": {},
   "source": []
  },
  {
   "cell_type": "raw",
   "metadata": {},
   "source": []
  },
  {
   "cell_type": "raw",
   "metadata": {},
   "source": []
  },
  {
   "cell_type": "raw",
   "metadata": {},
   "source": []
  },
  {
   "cell_type": "raw",
   "metadata": {},
   "source": []
  },
  {
   "cell_type": "raw",
   "metadata": {},
   "source": [
    "### LASSO"
   ]
  },
  {
   "cell_type": "raw",
   "metadata": {},
   "source": [
    "from sklearn.linear_model import Lasso, Ridge, ElasticNet"
   ]
  },
  {
   "cell_type": "raw",
   "metadata": {},
   "source": [
    "scaler = StandardScaler()\n",
    "train_scaled = scaler.fit_transform(train[train.columns.difference(['TARGET_DA_LMP'])])"
   ]
  },
  {
   "cell_type": "raw",
   "metadata": {},
   "source": [
    "train_y = train['TARGET_DA_LMP']"
   ]
  },
  {
   "cell_type": "raw",
   "metadata": {},
   "source": [
    "Lasso()"
   ]
  },
  {
   "cell_type": "raw",
   "metadata": {},
   "source": [
    "lasso_model = Lasso(alpha=1)\n",
    "lasso_model = lasso_model.fit(train_scaled, train_y)\n",
    "lasso_model.coef_"
   ]
  },
  {
   "cell_type": "raw",
   "metadata": {},
   "source": [
    "ridge_model = Ridge(alpha=0.7)\n",
    "ridge_model = ridge_model.fit(train_scaled, train_y)\n",
    "ridge_model.coef_"
   ]
  },
  {
   "cell_type": "raw",
   "metadata": {},
   "source": [
    "enet_model = ElasticNet(alpha=0.2, l1_ratio=0.1)\n",
    "enet_model = enet_model.fit(train_scaled, train_y)\n",
    "enet_model.coef_"
   ]
  },
  {
   "cell_type": "raw",
   "metadata": {},
   "source": [
    "plt.plot(lasso_model.coef_, linewidth=2, linestyle='--', label='LASSO', color='blue')\n",
    "plt.plot(ridge_model.coef_, linewidth=2, linestyle='-', label='Ridge', color='green')\n",
    "plt.plot(enet_model.coef_, linewidth=2, linestyle='-', label='ElasticNet', color='red')\n",
    "plt.ylim(-14, 14)\n",
    "plt.xticks(np.arange(len(train.columns.difference(['TARGET_DA_LMP']).values)), \n",
    "           tuple(train.columns.difference(['TARGET_DA_LMP']).values), rotation=90)\n",
    "plt.legend()\n",
    "plt.show()"
   ]
  },
  {
   "cell_type": "raw",
   "metadata": {},
   "source": [
    "tuple(train.columns.difference(['TARGET_DA_LMP']).values)"
   ]
  },
  {
   "cell_type": "raw",
   "metadata": {},
   "source": [
    "train.columns.difference(['TARGET_DA_LMP']).values"
   ]
  }
 ],
 "metadata": {
  "kernelspec": {
   "display_name": "Python 3",
   "language": "python",
   "name": "python3"
  },
  "language_info": {
   "codemirror_mode": {
    "name": "ipython",
    "version": 3
   },
   "file_extension": ".py",
   "mimetype": "text/x-python",
   "name": "python",
   "nbconvert_exporter": "python",
   "pygments_lexer": "ipython3",
   "version": "3.6.1"
  }
 },
 "nbformat": 4,
 "nbformat_minor": 2
}
